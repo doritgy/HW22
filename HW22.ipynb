{
 "cells": [
  {
   "cell_type": "code",
   "execution_count": null,
   "id": "b4b53575-b498-427f-b752-f5e0087094ac",
   "metadata": {},
   "outputs": [],
   "source": []
  },
  {
   "cell_type": "code",
   "execution_count": 17,
   "id": "f8793b09-45f7-4e25-8d3b-b7a3a1fd880c",
   "metadata": {},
   "outputs": [
    {
     "name": "stdout",
     "output_type": "stream",
     "text": [
      "[1, 2, 3, 4, 5, 6, 7, 8, 9, 10]\n"
     ]
    }
   ],
   "source": [
    "my_list = list(range(1, 11))\n",
    "print(my_list)"
   ]
  },
  {
   "cell_type": "code",
   "execution_count": 3,
   "id": "7aa3b643-3e4e-45a7-b955-8d9434ae8546",
   "metadata": {},
   "outputs": [],
   "source": [
    "import numpy as np"
   ]
  },
  {
   "cell_type": "code",
   "execution_count": 9,
   "id": "41dfb9fd-8f4f-4afa-b158-0e2f032374ea",
   "metadata": {},
   "outputs": [
    {
     "data": {
      "text/plain": [
       "array([1, 2, 3])"
      ]
     },
     "execution_count": 9,
     "metadata": {},
     "output_type": "execute_result"
    }
   ],
   "source": [
    "np.arange(1,4)"
   ]
  },
  {
   "cell_type": "markdown",
   "id": "520813d0-dfed-4ddf-a605-be14e8e06bfe",
   "metadata": {},
   "source": [
    "## what is data science\n",
    "Use > for blockquotes \n",
    ">Data science is field that includes mathematics, statistics,\n",
    "information science, and computer science, including data mining, machine learning,\n",
    "clustering, statistical inference, and data visualization in order to extract conclusions from structured and unsctructured data\n",
    "##### What is the difference between structured and unstructured data\n",
    ">structured data is rows and columns which include fields with a meaning. Like a database in SQL, which is easy to handle\n",
    ">unstructured data is a native format of data, which comes in rows with different length, and different meaning, no fields, like a music file or an image. This data is handled only when it is processed\n",
    "##### what is exploratory data analysis\n",
    ">exploratory data analysis is the action taken after the raw data was cleaned and organized, then comes the analysis of the data so that from this action we can get reports, visualisation and communication\n",
    "##### what are the two targets achieved by data science\n",
    ">2 targets are addressed with data science in companies: 1. making decisions based on the exploration of data 2. solving problems that arise in day to day business\n",
    "##### what are gen AI tools\n",
    ">Generative AI tools are software applications that use artificial intelligence (AI) to create data, structured and unstructured\n",
    ">those tools include: Text Generation, Image Generation, Voice Generation, Music Generation, Video Generation, Code Generation\n",
    "##### why is Jupyter notebook used in data science?\n",
    ">Jupyter notebook enables us to run the code of python row after row and get the result after every row, it helps us to get conclusions and also\n",
    ">to edit the cell with HTML orders so that we get a nice page\n",
    "##### what is markdown\n",
    ">markdown is a mode of editing in HTML and giving the page a nice shape\n",
    "##### when do we use an exclamation mark\n",
    ">exclamation mark says that a command in CMD follows, like import or list\n"
   ]
  },
  {
   "cell_type": "code",
   "execution_count": null,
   "id": "73021cc0-606a-4eb6-b4e9-35b3a3268ffd",
   "metadata": {},
   "outputs": [],
   "source": []
  }
 ],
 "metadata": {
  "kernelspec": {
   "display_name": "Python 3 (ipykernel)",
   "language": "python",
   "name": "python3"
  },
  "language_info": {
   "codemirror_mode": {
    "name": "ipython",
    "version": 3
   },
   "file_extension": ".py",
   "mimetype": "text/x-python",
   "name": "python",
   "nbconvert_exporter": "python",
   "pygments_lexer": "ipython3",
   "version": "3.12.7"
  }
 },
 "nbformat": 4,
 "nbformat_minor": 5
}
